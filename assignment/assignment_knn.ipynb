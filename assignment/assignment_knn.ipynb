{
  "cells": [
    {
      "cell_type": "markdown",
      "id": "f7ef20f0-722f-4240-8a79-437d4a3b8832",
      "metadata": {
        "id": "f7ef20f0-722f-4240-8a79-437d4a3b8832"
      },
      "source": [
        "## Assignment 3: $k$ Nearest Neighbor\n",
        "\n",
        "**Do two questions.**\n",
        "\n",
        "`! git clone https://github.com/ds4e/knn`"
      ]
    },
    {
      "cell_type": "markdown",
      "id": "5d9212c0",
      "metadata": {
        "id": "5d9212c0"
      },
      "source": [
        "**Q0.**\n",
        "1. What is the difference between regression and classification?\n",
        "\n",
        "Classification aims to find decision boundaries that separate classes, whereas regression focuses on finding the best-fitting line to predict numerical outcomes\n",
        "\n",
        "2. What is a confusion table? What does it help us understand about a model's performance?\n",
        "\n",
        "A confusion table has two rows and two columns that report the number of true positives, false negatives, false positives, and true negatives.It helps us understand a models accuracy and its tendency to predict values wrongly.\n",
        "\n",
        "3. What does the SSE quantify about a particular model?\n",
        "The SSE calculates the sum of squared errors which helps predict the accuracy of the model.\n",
        "\n",
        "4. What are overfitting and underfitting?\n",
        "\n",
        "Overfitting occurs when a model learns too much from the training data, including noise(data that doesn't matter). Underfitting occurs when a model is too simple to capture the underlying patterns in the training data.\n",
        "\n",
        "5. Why does splitting the data into training and testing sets, and choosing $k$ by evaluating accuracy or SSE on the test set, improve model performance?\n",
        "\n",
        "Splitting the data in to sets helps assess how well a machine learning model will generalize to new data. Choosing a different level of k based on the accuracy or SSE helps to prevent overfitting or underfitting ensuring an accurate model.\n",
        "\n",
        "6. With classification, we can report a class label as a prediction or a probability distribution over class labels. Please explain the strengths and weaknesses of each approach.\n",
        "Class Label\n",
        "Strengths: Easy Identification that both humans and machines can understand easier, Computationally more efficient due to less calculations\n",
        "Weaknesses: Lacks Confidence Insight as it doesn't provide information on the accuracy of a model, It's forced to choose between two models rather then investigating the ambiguity.\n",
        "\n",
        "Probability Distribution\n",
        "Strengths: You can access the confidence level of the results, it handles possible ambiguity in the model\n",
        "Weaknesses: Its computationally heavy making it less efficient, and can be harder to understand\n"
      ]
    },
    {
      "cell_type": "markdown",
      "id": "194455fa",
      "metadata": {
        "id": "194455fa"
      },
      "source": [
        "**Q1.** This question is a case study for $k$ nearest neighbor regression, using the `USA_cars_datasets.csv` data.\n",
        "\n",
        "The target variable `y` is `price` and the features are `year` and `mileage`.\n",
        "\n",
        "1. Load the `./data/USA_cars_datasets.csv`. Keep the following variables and drop the rest: `price`, `year`, `mileage`. Are there any `NA`'s to handle? Look at the head and dimensions of the data.\n",
        "2. Maxmin normalize `year` and `mileage`.\n",
        "3. Split the sample into ~80% for training and ~20% for evaluation.\n",
        "4. Use the $k$NN algorithm and the training data to predict `price` using `year` and `mileage` for the test set for $k=3,10,25,50,100,300$. For each value of $k$, compute the mean squared error and print a scatterplot showing the test value plotted against the predicted value. What patterns do you notice as you increase $k$?\n",
        "5. Determine the optimal $k$ for these data.\n",
        "6. Describe what happened in the plots of predicted versus actual prices as $k$ varied, taking your answer into part 6 into account. (Hint: Use the words \"underfitting\" and \"overfitting\".)"
      ]
    },
    {
      "cell_type": "markdown",
      "id": "287b8586",
      "metadata": {
        "id": "287b8586"
      },
      "source": [
        "**Q2.** This is a case study on $k$ nearest neighbor classification, using the `animals.csv` data.\n",
        "\n",
        "The data consist of a label, `class`, taking integer values 1 to 7, the name of the species, `animal`, and 16 characteristics of the animal, including `hair`, `feathers`, `milk`, `eggs`, `airborne`, and so on.\n",
        "\n",
        "1. Load the data. For each of the seven class labels, print the values in the class and get a sense of what is included in that group. Perform some other EDA: How big are the classes? How much variation is there in each of the features/covariates? Which variables do you think will best predict which class?\n",
        "2. Split the data 50/50 into training and test/validation sets. (The smaller the data are, the more equal the split should be, in my experience: Otherwise, all of the members of one class end up in the training or test data, and the model falls apart.)\n",
        "3. Using all of the variables, build a $k$-NN classifier. Explain how you select $k$.\n",
        "4. Print a confusion table for the optimal model, comparing predicted and actual class label on the test set. How accurate it is? Can you interpret why mistakes are made across groups?\n",
        "5. Use only `milk`, `aquatic`, and `airborne` to train a new $k$-NN classifier. Print your confusion table. Mine does not predict all of the classes, only a subset of them. To see the underlying probabilities, use `model.predict_proba(X_test.values)` to predict probabilities rather than labels for your `X_test` test data for your fitted `model`. Are all of the classes represented? Explain your results."
      ]
    },
    {
      "cell_type": "markdown",
      "id": "c008c35c",
      "metadata": {
        "id": "c008c35c"
      },
      "source": [
        "**Q3.** This question is a case study for $k$ nearest neighbor regression, using the `cars_env.csv` data.\n",
        "\n",
        "The variables that go into the model are one more dimension to think about: We can use the train-test split approach to pick the variables that go into the model, not just the number of neighbors.\n",
        "\n",
        "1. Load the data. We're going to use `footprint`, `baseline mpg`, `baseline price`, and `baseline sales`. Prepare some EDA results for these variables: describe tables, histograms/kernel density plots, scatterplots, etc. I renamed these variables to `footprint`, `mpg`, `price`, and `sales` to save time.\n",
        "2. Maxmin normalize `footprint`, `mpg`, and `price`. These will be our features/covariates $X$. Our target/dependent/outcome variable $y$ will be sales. Does it make sense to normalize $y$?\n",
        "3. Make a 30% train-test split of the data into 30% test/validation data and 70% training data.\n",
        "4. Using all three covariates --- `footprint`, `mpg`, and `price` --- what's the best $k$ to use? What SSE is achieved on the test set? To answer these questions, evalute the sum of squared error on the test set for a reasonable range of values of $k$ (perhaps 2 to 150), and find the $k$ with the lowest SSE.\n",
        "5. Do part 4 again, for each pair of variables: `footprint` and `mpg`, `footprint` and `price`, `mpg` and `price`.\n",
        "6. Which set of variables from parts 4 and 5 does the best, in terms of minimizing SSE at the optimal choice of neighbors? Explain."
      ]
    },
    {
      "cell_type": "markdown",
      "id": "6a0ff5e3",
      "metadata": {
        "id": "6a0ff5e3"
      },
      "source": [
        "**Q4.** This is a case study on $k$ nearest neighbor classification, using the `land_mines.csv` data.\n",
        "\n",
        "The data consists of a label, `mine_type`, taking integer values 1 to 5, and three properties of the mine, `voltage`, `height` and `soil`. We want to predict the kind of mine from data about it. Imagine working for the DOD or a humanitarian aid agency, trying to help people remove land mines more safely.\n",
        "\n",
        "1. Load the data. Perform some EDA, summarizing the target label and the features.\n",
        "2. Split the sample 50/50 into training and test/validation sets. (The smaller the data are, the more equal the split should be, in my experience: Otherwise, all of the members of one class end up in the training or test data, and the model falls apart.)\n",
        "3. Build a $k$-NN classifier. Explain how you select $k$.\n",
        "4. Print a confusion table for the optimal model, comparing predicted and actual class label on the test set. How accurate is it? Where is performance more or less accurate?\n",
        "5. Notice that you can have a lot of accurate predictions for a given type of mine, but still make a lot of mistakes. Please explain how you'd advise someone to actually use this predictive model in practice, given the errors that it tends to make."
      ]
    },
    {
      "cell_type": "markdown",
      "id": "010b57f7-bf4f-4494-b54c-49c4f3ae3ab9",
      "metadata": {
        "id": "010b57f7-bf4f-4494-b54c-49c4f3ae3ab9"
      },
      "source": [
        "**Q5.** This question is a case study for $k$ nearest neighbor regression, using the `heart_failure_clinical_records_dataset.csv` data.\n",
        "\n",
        "The data for the question include:\n",
        "\n",
        "- age: age of the patient (years)\n",
        "- anaemia: decrease of red blood cells or hemoglobin (boolean)\n",
        "- high blood pressure: if the patient has hypertension (boolean)\n",
        "- creatinine phosphokinase (CPK): level of the CPK enzyme in the blood (mcg/L)\n",
        "- diabetes: if the patient has diabetes (boolean)\n",
        "- ejection fraction: percentage of blood leaving the heart at each contraction (percentage)\n",
        "- platelets: platelets in the blood (kiloplatelets/mL)\n",
        "- sex: woman or man (binary)\n",
        "- serum creatinine: level of serum creatinine in the blood (mg/dL)\n",
        "- serum sodium: level of serum sodium in the blood (mEq/L)\n",
        "- smoking: if the patient smokes or not (boolean)\n",
        "- time: follow-up period (days)\n",
        "- death event: if the patient deceased during the follow-up period (boolean)\n",
        "\n",
        "1. Load the `./data/heart_failure_clinical_records_dataset.csv`. Are there any `NA`'s to handle? use `.drop()` to remove `time` from the dataframe.\n",
        "2. Make a correlation matrix. What variables are strongly associated with a death event?\n",
        "3. For the dummy variables `anaemia`, `diabetes`, `high_blood_pressure`, `sex`, and `smoking`, compute a summary table of `DEATH_EVENT` grouped by the variable. For which variables does a higher proportion of the population die when the variable takes the value 1 rather than 0?\n",
        "4. On the basis of your answers from 2 and 3, build a matrix $X$ of the variables you think are most predictive of a death, and a variable $y$ equal to `DEATH_EVENT`.\n",
        "5. Maxmin normalize all of the variables in `X`.\n",
        "6. Split the sample into ~80% for training and ~20% for evaluation. (Try to use the same train/test split for the whole question, so that you're comparing apples to apples in the questions below.).\n",
        "7. Determine the optimal number of neighbors for a $k$NN regression for the variables you selected.\n",
        "8. OK, do steps 5 through 7 again, but use all of the variables (except `time`). Which model has a lower Sum of Squared Error? Which would you prefer to use in practice, if you had to predict `DEATH_EVENT`s? If you play with the selection of variables, how much does the SSE change for your fitted model on the test data? Are more variables always better? Explain your findings."
      ]
    },
    {
      "cell_type": "markdown",
      "id": "8d193de6",
      "metadata": {
        "vscode": {
          "languageId": "plaintext"
        },
        "id": "8d193de6"
      },
      "source": [
        "**Q6.** This is a case study on $k$ nearest neighbor regression and imputation, using the `airbnb_hw.csv` data.\n",
        "\n",
        "There are 30,478 observations, but only 22,155 ratings. We're going to build a kNN regressor to impute missing values. This is a common task, and illustrates one way you can use kNN in the future even when you have more advanced models available.\n",
        "\n",
        "1. Load the `airbnb_hw.csv` data with Pandas. We're only going to use `Review Scores Rating`, `Price`, and `Beds`, so use `.loc` to reduce the dataframe to those variables.\n",
        "2. Set use `.isnull()` to select the subset of the dataframe with missing review values. Set those aside in a different dataframe. We'll make predictions about them later.\n",
        "3. Use `df = df.dropna(axis = 0, how = 'any')` to eliminate any observations with missing values/NA's from the dataframe.\n",
        "4. For the complete cases, create a $k$-NN model that uses the variables `Price` and `Beds` to predict `Review Scores Rating`. How do you choose $k$? (Hint: Train/test split, iterate over reasonable values of $k$ and find a value that minimizes SSE on the test split using predictions from the training set.)\n",
        "5. Predict the missing ratings.\n",
        "6. Do a kernel density plot of the training ratings and the predicted missing ratings. Do they look similar or not? Explain why."
      ]
    },
    {
      "cell_type": "markdown",
      "source": [
        "##**Question 1**\n",
        "\n",
        "Load the airbnb_hw.csv data with Pandas. We're only going to use Review Scores Rating, Price, and Beds, so use .loc to reduce the dataframe to those variables."
      ],
      "metadata": {
        "id": "oCnY9SK7PUgB"
      },
      "id": "oCnY9SK7PUgB"
    },
    {
      "cell_type": "code",
      "source": [
        "import numpy as np\n",
        "import matplotlib.pyplot as plt\n",
        "import pandas as pd\n",
        "import seaborn as sns"
      ],
      "metadata": {
        "id": "A2bPZjcANovz"
      },
      "id": "A2bPZjcANovz",
      "execution_count": 17,
      "outputs": []
    },
    {
      "cell_type": "code",
      "source": [
        "#1\n",
        "df = pd.read_csv('/content/airbnb_hw.csv')\n",
        "df = df.loc[:,['Review Scores Rating', 'Price', 'Beds']]\n",
        "df.head()\n",
        "print(df.describe())\n",
        "\n",
        "df['Price'] = df['Price'].str.replace(',','')\n",
        "df['Price'] = pd.to_numeric( df['Price'], errors='coerce')\n",
        "\n",
        "print(df.describe())\n",
        "print(df.dtypes)\n",
        "\n",
        "df = df.rename(columns={'Price':'price','Beds':'beds','Review Scores Rating':'review'})"
      ],
      "metadata": {
        "colab": {
          "base_uri": "https://localhost:8080/"
        },
        "id": "2uka8XO4LeeR",
        "outputId": "e6662e4d-9a9d-4a8d-f98e-930d47d75d8c"
      },
      "id": "2uka8XO4LeeR",
      "execution_count": 18,
      "outputs": [
        {
          "output_type": "stream",
          "name": "stdout",
          "text": [
            "       Review Scores Rating          Beds\n",
            "count          22155.000000  30393.000000\n",
            "mean              91.993230      1.530089\n",
            "std                8.850373      1.015359\n",
            "min               20.000000      0.000000\n",
            "25%               89.000000      1.000000\n",
            "50%               94.000000      1.000000\n",
            "75%              100.000000      2.000000\n",
            "max              100.000000     16.000000\n",
            "       Review Scores Rating         Price          Beds\n",
            "count          22155.000000  30478.000000  30393.000000\n",
            "mean              91.993230    163.589737      1.530089\n",
            "std                8.850373    197.785454      1.015359\n",
            "min               20.000000     10.000000      0.000000\n",
            "25%               89.000000     80.000000      1.000000\n",
            "50%               94.000000    125.000000      1.000000\n",
            "75%              100.000000    195.000000      2.000000\n",
            "max              100.000000  10000.000000     16.000000\n",
            "Review Scores Rating    float64\n",
            "Price                     int64\n",
            "Beds                    float64\n",
            "dtype: object\n"
          ]
        }
      ]
    },
    {
      "cell_type": "markdown",
      "source": [
        "##**Question 2**\n",
        "\n",
        "Set use .isnull() to select the subset of the dataframe with missing review values. Set those aside in a different dataframe. We'll make predictions about them later."
      ],
      "metadata": {
        "id": "UzGRrcvZPg3c"
      },
      "id": "UzGRrcvZPg3c"
    },
    {
      "cell_type": "code",
      "source": [
        "select = df['review'].isnull()\n",
        "df_to_impute = df.loc[select,:]\n",
        "#3\n",
        "df = df.dropna(axis=0,how='any')"
      ],
      "metadata": {
        "id": "YFsswMsDNvvC"
      },
      "id": "YFsswMsDNvvC",
      "execution_count": 19,
      "outputs": []
    },
    {
      "cell_type": "markdown",
      "source": [
        "##**Question 3**\n",
        "Use df = df.dropna(axis = 0, how = 'any') to eliminate any observations with missing values/NA's from the dataframe."
      ],
      "metadata": {
        "id": "zp2hcb-OPsLH"
      },
      "id": "zp2hcb-OPsLH"
    },
    {
      "cell_type": "code",
      "source": [
        "df = df.dropna(axis=0,how='any')"
      ],
      "metadata": {
        "id": "GXCr_f0rPqmM"
      },
      "id": "GXCr_f0rPqmM",
      "execution_count": 20,
      "outputs": []
    },
    {
      "cell_type": "markdown",
      "source": [
        "##**Question 4**\n",
        "\n",
        "For the complete cases, create a KNN model that uses the variables Price and Beds to predict Review Scores Rating. How do you choose ? (Hint: Train/test split, iterate over reasonable values of and find a value that minimizes SSE on the test split using predictions from the training set.)"
      ],
      "metadata": {
        "id": "b-gN0r96QFcQ"
      },
      "id": "b-gN0r96QFcQ"
    },
    {
      "cell_type": "code",
      "source": [
        "y = df['review']\n",
        "X = df.loc[:,['price','beds'] ]\n",
        "\n",
        "from sklearn.neighbors import KNeighborsRegressor\n",
        "from sklearn.model_selection import train_test_split\n",
        "X_train, X_test, y_train, y_test = train_test_split(X,y,\n",
        "                                                    test_size=.3,\n",
        "                                                    random_state=300)\n",
        "\n",
        "k_bar = 200\n",
        "SSE = np.zeros(k_bar)\n",
        "\n",
        "for k in range(k_bar):\n",
        "    model = KNeighborsRegressor(n_neighbors=k+1)\n",
        "    fitted_model = model.fit(X_train,y_train)\n",
        "    y_hat = fitted_model.predict(X_test)\n",
        "    SSE[k] = np.sum( (y_test-y_hat)**2 )\n",
        "    y_hat = fitted_model.predict(X_train)\n",
        "\n",
        "SSE_min = np.min(SSE)\n",
        "min_index = np.where(SSE==SSE_min)\n",
        "k_star = min_index[0]+1\n",
        "print(k_star)\n",
        "\n",
        "plt.plot(np.arange(0,k_bar),SSE,label='Test SSE')\n",
        "plt.xlabel(\"k\")\n",
        "plt.ylabel(\"SSE\")\n",
        "plt.legend(loc='upper right')\n",
        "plt.title('SSE')\n",
        "plt.show()\n",
        "\n",
        "\n",
        "model = KNeighborsRegressor(n_neighbors=k_star[0])\n",
        "fitted_model = model.fit(X_train,y_train)"
      ],
      "metadata": {
        "colab": {
          "base_uri": "https://localhost:8080/",
          "height": 489
        },
        "id": "D-8w5n_TN_dF",
        "outputId": "7e41f9a7-f95e-40f1-b2af-8d2eb06a1de2"
      },
      "id": "D-8w5n_TN_dF",
      "execution_count": 16,
      "outputs": [
        {
          "output_type": "stream",
          "name": "stdout",
          "text": [
            "[137]\n"
          ]
        },
        {
          "output_type": "display_data",
          "data": {
            "text/plain": [
              "<Figure size 640x480 with 1 Axes>"
            ],
            "image/png": "[encoded data removed]"
          },
          "metadata": {}
        }
      ]
    },
    {
      "cell_type": "markdown",
      "source": [
        "##**Question 5**\n",
        "\n",
        "Predict the missing ratings."
      ],
      "metadata": {
        "id": "G1eiecDwQit5"
      },
      "id": "G1eiecDwQit5"
    },
    {
      "cell_type": "code",
      "source": [
        "x_impute = df_to_impute.loc[:,['price','beds'] ]\n",
        "x_impute = x_impute.dropna(axis=0,how='any')\n",
        "y_impute = fitted_model.predict(x_impute)"
      ],
      "metadata": {
        "id": "47HZ0afTQrzF"
      },
      "id": "47HZ0afTQrzF",
      "execution_count": 21,
      "outputs": []
    },
    {
      "cell_type": "markdown",
      "source": [
        "##**Question 6**\n",
        "\n",
        "Do a kernel density plot of the training ratings and the predicted missing ratings. Do they look similar or not? Explain why."
      ],
      "metadata": {
        "id": "fN1jkdlQQuSk"
      },
      "id": "fN1jkdlQQuSk"
    },
    {
      "cell_type": "code",
      "source": [
        "imputed = pd.DataFrame.from_dict({ 'y':y_impute,'group':'imputed'})\n",
        "true = pd.DataFrame.from_dict({'y':df['review'],'group':'actual'})\n",
        "gdf = pd.concat([imputed,true],axis=0)\n",
        "\n",
        "sns.kdeplot(x='y',hue='group',data=gdf)\n",
        "plt.title('Imputed versus Actual Values')\n",
        "\n",
        "print('The imputed values are much more compressed than the real ones.')"
      ],
      "metadata": {
        "colab": {
          "base_uri": "https://localhost:8080/",
          "height": 489
        },
        "id": "5GQpjFKtQ2JL",
        "outputId": "4bcab30a-83b0-41eb-873a-de784638a0a3"
      },
      "id": "5GQpjFKtQ2JL",
      "execution_count": 22,
      "outputs": [
        {
          "output_type": "stream",
          "name": "stdout",
          "text": [
            "The imputed values are much more compressed than the real ones.\n"
          ]
        },
        {
          "output_type": "display_data",
          "data": {
            "text/plain": [
              "<Figure size 640x480 with 1 Axes>"
            ],
            "image/png": "[encoded data removed]"
          },
          "metadata": {}
        }
      ]
    }
  ],
  "metadata": {
    "kernelspec": {
      "display_name": "Python 3 (ipykernel)",
      "language": "python",
      "name": "python3"
    },
    "language_info": {
      "codemirror_mode": {
        "name": "ipython",
        "version": 3
      },
      "file_extension": ".py",
      "mimetype": "text/x-python",
      "name": "python",
      "nbconvert_exporter": "python",
      "pygments_lexer": "ipython3",
      "version": "3.10.4"
    },
    "colab": {
      "provenance": []
    }
  },
  "nbformat": 4,
  "nbformat_minor": 5
}